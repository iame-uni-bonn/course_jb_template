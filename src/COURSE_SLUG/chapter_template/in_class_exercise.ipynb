{
 "cells": [
  {
   "cell_type": "code",
   "execution_count": null,
   "metadata": {},
   "outputs": [],
   "source": [
    "import numpy as np\n",
    "import pandas as pd\n",
    "import plotly.express as px\n",
    "from gettsim import (\n",
    "    compute_taxes_and_transfers,\n",
    "    create_synthetic_data,\n",
    "    set_up_policy_environment,\n",
    ")"
   ]
  },
  {
   "attachments": {},
   "cell_type": "markdown",
   "metadata": {},
   "source": [
    "# Präsenzphase: Kinderzuschlag und Wohngeld\n",
    "\n",
    "In diesem Notebook beschäftigen wir uns damit, wie der Kinderzuschlag und Wohngeld sich\n",
    "auf die finanzielle Lage von Geringverdienern auswirkt. Anstelle eines Vergleichs\n",
    "unterschiedlicher Haushaltstypen vergleichen wir diesmal, wie der Kinderzuschlag sich\n",
    "auf bestimmte Haushaltstypen auswirkt.\n",
    "\n",
    "Wir werden dies für zwei verschiedene Haushaltstypen machen:\n",
    "\n",
    "- 2 Erwachsene, 1 Kind\n",
    "- 2 Erwachsene, 2 Kinder\n",
    "\n",
    "Dafür müssen wir, wie immer, zunächst einen entsprechenden Datensatz erstellen.\n",
    "\n",
    "## Erstellung der Daten (10 Minuten)\n",
    "\n",
    "*Achten sie heute im besonderen Maße auf die Wohnkosten, da diese hochrelevant für den Kinderzuschlag sind!* "
   ]
  },
  {
   "cell_type": "code",
   "execution_count": null,
   "metadata": {},
   "outputs": [],
   "source": [
    "min_einkommen = 500\n",
    "max_einkommen = 5500\n",
    "anzahl_schritte = 501"
   ]
  },
  {
   "cell_type": "code",
   "execution_count": null,
   "metadata": {},
   "outputs": [],
   "source": [
    "# Zwei Erwachsene, ein Kind\n",
    "df_2e_1k = create_synthetic_data(\n",
    "    n_adults=2,\n",
    "    n_children=1,\n",
    "    specs_heterogeneous={\n",
    "        \"bruttolohn_m\": [\n",
    "            [i / 2, i / 2, 0]\n",
    "            for i in np.linspace(min_einkommen, max_einkommen, anzahl_schritte)\n",
    "        ],\n",
    "    },\n",
    ")"
   ]
  },
  {
   "cell_type": "code",
   "execution_count": null,
   "metadata": {},
   "outputs": [],
   "source": [
    "# Zwei Erwachsene, zwei Kinder\n",
    "df_2e_2k = create_synthetic_data(\n",
    "    n_adults=2,\n",
    "    n_children=2,\n",
    "    specs_heterogeneous={\n",
    "        \"bruttolohn_m\": [\n",
    "            [i / 2, i / 2, 0, 0]\n",
    "            for i in np.linspace(min_einkommen, max_einkommen, anzahl_schritte)\n",
    "        ],\n",
    "    },\n",
    ")\n",
    "\n",
    "for var in [\"hh_id\", \"tu_id\", \"p_id\"]:\n",
    "    df_2e_2k[var] += 1 + df_2e_1k[var].max()"
   ]
  },
  {
   "attachments": {},
   "cell_type": "markdown",
   "metadata": {},
   "source": [
    "Nun erstellen wir einen großen Datensatz, der die eben erstellten enthält."
   ]
  },
  {
   "cell_type": "code",
   "execution_count": null,
   "metadata": {},
   "outputs": [],
   "source": [
    "inputs_personen = pd.concat(\n",
    "    [df_2e_1k, df_2e_2k],\n",
    "    keys=[\n",
    "        \"2 Erwachsene, 1 Kind\",\n",
    "        \"2 Erwachsene, 2 Kinder\",\n",
    "    ],\n",
    "    names=[\"Haushaltstyp\", \"lfd_nr\"],\n",
    ")\n",
    "inputs_personen"
   ]
  },
  {
   "attachments": {},
   "cell_type": "markdown",
   "metadata": {},
   "source": [
    "Die Berechnung des zu versteuernden Einkommens vor Berücksichtigung des Kinderfreibetrags kürzen wir wieder ab."
   ]
  },
  {
   "cell_type": "code",
   "execution_count": null,
   "metadata": {},
   "outputs": [],
   "source": [
    "inputs_personen[\"_zu_verst_eink_ohne_kinderfreib_tu\"] = (\n",
    "    inputs_personen.groupby(\"tu_id\")[\"bruttolohn_m\"].transform(\"sum\") * 12\n",
    ")"
   ]
  },
  {
   "attachments": {},
   "cell_type": "markdown",
   "metadata": {},
   "source": [
    "Miete und Heizkosten hängen im automatisch erstellten Datensatz von der Haushaltsgröße ab:"
   ]
  },
  {
   "cell_type": "code",
   "execution_count": null,
   "metadata": {},
   "outputs": [],
   "source": [
    "inputs_personen[[\"heizkosten_m_hh\", \"bruttokaltmiete_m_hh\"]]"
   ]
  },
  {
   "attachments": {},
   "cell_type": "markdown",
   "metadata": {},
   "source": [
    "Wir setzen stattdessen die gleichen Werte für beide Haushaltstypen und nehmen etwas höhere sowie runde Zahlen."
   ]
  },
  {
   "cell_type": "code",
   "execution_count": null,
   "metadata": {},
   "outputs": [],
   "source": [
    "inputs_personen[\"heizkosten_m_hh\"] = 100.0\n",
    "inputs_personen[\"bruttokaltmiete_m_hh\"] = 700.0"
   ]
  },
  {
   "attachments": {},
   "cell_type": "markdown",
   "metadata": {},
   "source": [
    "## Berechnung der Transfers und Steuern (20 Minuten)\n",
    "\n",
    "Wir setzen zunächst wieder die Parameter des Steuer- und Transfersystems auf die des Jahres 2023 fest."
   ]
  },
  {
   "cell_type": "code",
   "execution_count": null,
   "metadata": {},
   "outputs": [],
   "source": [
    "params_dict, policy_func_dict = set_up_policy_environment(2023)"
   ]
  },
  {
   "attachments": {},
   "cell_type": "markdown",
   "metadata": {},
   "source": [
    "### Nutzen des \"vor_vorrang\" Targets von GETTSIM:\n",
    "\n",
    "In den letzten Wochen haben wir bereits das `arbeitsl_geld_2_vor_vorrang_m_hh` Target in\n",
    "die GETTSIM Funktion eingegeben, jedoch ohne wirklich darauf einzugehen. Heute wird der\n",
    "Unterschied zwischen `arbeitsl_geld_2_vor_vorrang_m_hh` und dem \"eigentlichen\"\n",
    "Bürgergeld-Target `arbeitsl_geld_2_m_hh` deutlich.\n",
    "\n",
    "- `arbeitsl_geld_2_m_hh`: Bürgergeld ist eine subsidiäre Leistung. Das heißt, wenn der\n",
    "  Bedarf einer Familie ohne Bürgergeld gedeckt werden kann, erlischt der Anspruch. Für\n",
    "  GETTSIM bedeutet dies, dass sobald die Summe aus (Erwerbs-)einkommen, Kinderzuschlag und\n",
    "  Wohngeld mindestens so hoch ist wie der Anspruch auf Bürgergeld (zzgl. des\n",
    "  (Erwerbs-)einkommens), der Zahlbetrag des Bürgergelds auf Null gesetzt wird.\n",
    "\n",
    "- `arbeitsl_geld_2_vor_vorrang_m_hh`: Bei diesem Target ist die automatische\n",
    "  *Vorrangprüfung* außer Kraft gesetzt. Dadurch gibt GETTSIM den Bürgergeldanspruch aus,\n",
    "  unabhängig davon, ob andere Sozialleistungen vorrangig wären. Das erlaubte uns in den\n",
    "  letzten Wochen, die Mechanik des Bürgergelds zu verstehen, ohne auf Kinderzuschlag und\n",
    "  Wohngeld einzugehen.\n",
    "\n",
    "Drei Anmerkungen:\n",
    "\n",
    "1. Da wir weiter mit `arbeitsl_geld_2_vor_vorrang_m_hh` arbeiten, können wir das\n",
    "   verfügbare Einkommen jetzt nicht mehr als die Summe aller Nettoeinkünfte und\n",
    "   Transfers berechnen, da ein gleichzeitiger Bezug von Bürgergeld und\n",
    "   Wohngeld/Kinderzuschlag ausgeschlossen ist.\n",
    "2. Im unteren Einkommensbereich ist es die Regel, dass Kinderzuschlag und Wohngeld den\n",
    "   Bedarf der Familie nicht decken, hinzu kommen in beiden Fällen\n",
    "   Mindesteinkommensgrenzen. Da die `wohngeld_m_hh` und `kinderzuschl_m_hh` analog zu \n",
    "   `arbeitsl_geld_2_m_hh` funktionieren (Anspruch und Vorrang also schon geprüft sind), \n",
    "   sind diese bereits Null. Wir ignorieren diese Einkommensbereiche.\n",
    "3. Als letzten Schritt vor Aufgabe 1 sehen Sie Graphiken, die Wohngeld und\n",
    "   Kinderzuschlag gegen das Bruttoeinkommen abtragen. Sie brauchen diese nur als\n",
    "   Hintergrund für die folgende Aufgabe, bitte machen Sie sich zunächst über diese\n",
    "   Graphiken keine großen Gedanken."
   ]
  },
  {
   "cell_type": "code",
   "execution_count": null,
   "metadata": {},
   "outputs": [],
   "source": [
    "ergebnisse_personen = compute_taxes_and_transfers(\n",
    "    data=inputs_personen,\n",
    "    functions=policy_func_dict,\n",
    "    params=params_dict,\n",
    "    columns_overriding_functions=[\n",
    "        \"_zu_verst_eink_ohne_kinderfreib_tu\",\n",
    "    ],\n",
    "    targets=[\n",
    "        \"kindergeld_m_hh\",\n",
    "        \"eink_st_tu\",\n",
    "        \"soli_st_tu\",\n",
    "        \"sozialv_beitr_m\",\n",
    "        \"wohngeld_m_hh\",\n",
    "        \"kinderzuschl_m_hh\",\n",
    "        \"arbeitsl_geld_2_vor_vorrang_m_hh\",\n",
    "    ],\n",
    ")\n",
    "\n",
    "# Mithilfe der p_id wieder hh_id, bruttolohn_m an das DataFrame joinen.\n",
    "ergebnisse_personen = ergebnisse_personen.join(\n",
    "    inputs_personen.reset_index().set_index(\"p_id\")[[\"hh_id\", \"bruttolohn_m\"]],\n",
    ")"
   ]
  },
  {
   "cell_type": "code",
   "execution_count": null,
   "metadata": {},
   "outputs": [],
   "source": [
    "# Zahlen auf Haushaltsebene aggregieren: Summieren der Größen auf Individuenebene\n",
    "# und Übernehmen der (max.) Größen auf Haushalts- und Tax-unit-Ebene.\n",
    "ergebnisse = ergebnisse_personen.groupby(\"hh_id\").agg(\n",
    "    {\n",
    "        \"bruttolohn_m\": lambda x: x.sum(),\n",
    "        \"kindergeld_m_hh\": lambda x: x.max(),\n",
    "        \"eink_st_tu\": lambda x: x.max() / 12,\n",
    "        \"soli_st_tu\": lambda x: x.max() / 12,\n",
    "        \"sozialv_beitr_m\": lambda x: x.sum(),\n",
    "        \"wohngeld_m_hh\": lambda x: x.max(),\n",
    "        \"kinderzuschl_m_hh\": lambda x: x.max(),\n",
    "        \"arbeitsl_geld_2_vor_vorrang_m_hh\": lambda x: x.max(),\n",
    "    },\n",
    ")\n",
    "\n",
    "# Kenntlich machen, dass es sich jetzt um Haushaltsgrößen handelt.\n",
    "ergebnisse = ergebnisse.rename(\n",
    "    columns={\n",
    "        \"bruttolohn_m\": \"bruttolohn_m_hh\",\n",
    "        \"sozialv_beitr_m\": \"sozialv_beitr_m_hh\",\n",
    "    },\n",
    ")\n",
    "\n",
    "# Mithilfe der hh_id den Haushaltstyp and das DataFrame joinen.\n",
    "ergebnisse = ergebnisse.join(\n",
    "    inputs_personen.reset_index().set_index(\"hh_id\")[\"Haushaltstyp\"],\n",
    ").drop_duplicates()\n",
    "\n",
    "# Index für gute Übersicht setzen.\n",
    "ergebnisse = ergebnisse.set_index([\"Haushaltstyp\", \"bruttolohn_m_hh\"])\n",
    "ergebnisse"
   ]
  },
  {
   "cell_type": "code",
   "execution_count": null,
   "metadata": {},
   "outputs": [],
   "source": [
    "px.line(\n",
    "    ergebnisse.reset_index(),\n",
    "    x=\"bruttolohn_m_hh\",\n",
    "    y=\"wohngeld_m_hh\",\n",
    "    color=\"Haushaltstyp\",\n",
    "    title=\"Wohngeld\",\n",
    ")"
   ]
  },
  {
   "cell_type": "code",
   "execution_count": null,
   "metadata": {},
   "outputs": [],
   "source": [
    "px.line(\n",
    "    ergebnisse.reset_index(),\n",
    "    x=\"bruttolohn_m_hh\",\n",
    "    y=\"kinderzuschl_m_hh\",\n",
    "    color=\"Haushaltstyp\",\n",
    "    title=\"Kinderzuschlag\",\n",
    ")"
   ]
  },
  {
   "attachments": {},
   "cell_type": "markdown",
   "metadata": {},
   "source": [
    "## Aufgabe 1: Berechnung des verfügbaren Einkommens (25 Minuten)\n",
    "\n",
    "Wie Sie in der Selbstlernphase gelernt haben, schließen sich der Bezug von Bürgergeld\n",
    "sowie Wohngeld und/oder Kinderzuschlag gegenseitig aus. In dieser Aufgabe geht es darum,\n",
    "zu verdeutlichen, wie der Vorrang von Wohngeld/Kinderzuschlag über Einkommensgruppen und\n",
    "Haushaltstypen entwickelt.\n",
    "\n",
    "Berechnen sie das verfügbare Einkommen für jeden Haushaltstyp gegeben der folgenden drei Fälle:\n",
    "\n",
    "1. Der Haushalt beantragt (und bezieht) Kinderzuschlag und Wohngeld, falls möglich, aber nie Bürgergeld.\n",
    "\n",
    "2. Der Haushalt beantragt (und bezieht) Bürgergeld, falls möglich, aber nie Kinderzuschlag oder Wohngeld.\n",
    "\n",
    "3. Der Haushalt wählt die Transfers, die am vorteilhaftesten sind.\n",
    "\n",
    "\n",
    "Berechnen Sie zuerst die **Transfers** in jedem Szenario, in dem Sie für jedes Szenario eine **eigene Spalte anfertigen** (z.B. `transfers_kiz_und_wg`, `transfers_bürgergeld`, `transfers_vorrang`). \n",
    "\n",
    "Danach sind Sie bereit, das **verfügbare Einkommen** für jedes Szenario zu berechenen."
   ]
  },
  {
   "cell_type": "code",
   "execution_count": null,
   "metadata": {},
   "outputs": [],
   "source": [
    "## solution\n",
    "# Transfers\n",
    "ergebnisse[\"transfers_kiz_und_wg\"] = ergebnisse[\n",
    "    [\"kinderzuschl_m_hh\", \"wohngeld_m_hh\", \"kindergeld_m_hh\"]\n",
    "].sum(axis=1)\n",
    "ergebnisse[\"transfers_bürgergeld\"] = ergebnisse[\n",
    "    [\"arbeitsl_geld_2_vor_vorrang_m_hh\", \"kindergeld_m_hh\"]\n",
    "].sum(axis=1)\n",
    "ergebnisse[\"transfers_vorrang\"] = ergebnisse[\n",
    "    [\"transfers_kiz_und_wg\", \"transfers_bürgergeld\"]\n",
    "].max(axis=1)"
   ]
  },
  {
   "cell_type": "code",
   "execution_count": null,
   "metadata": {},
   "outputs": [],
   "source": [
    "## solution\n",
    "ergebnisse = ergebnisse.reset_index()\n",
    "for ext in \"_kiz_und_wg\", \"_bürgergeld\", \"_vorrang\":\n",
    "    name = \"verfügbares_einkommen\" + ext\n",
    "    ergebnisse[name] = (\n",
    "        ergebnisse[\"bruttolohn_m_hh\"]\n",
    "        + ergebnisse[\"transfers\" + ext]\n",
    "        - ergebnisse[\"eink_st_tu\"]\n",
    "        - ergebnisse[\"soli_st_tu\"]\n",
    "        - ergebnisse[\"sozialv_beitr_m_hh\"]\n",
    "    )\n",
    "ergebnisse = ergebnisse.set_index([\"Haushaltstyp\", \"bruttolohn_m_hh\"])\n",
    "ergebnisse"
   ]
  },
  {
   "attachments": {},
   "cell_type": "markdown",
   "metadata": {},
   "source": [
    "## Aufgabe 2: Erstellung von Grafiken (14 Minuten)\n",
    "\n",
    "Erstellen Sie zwei Grafiken (eine für jeden Haushaltstyp) in dem Sie die Abhängigkeit des verfügbaren Einkommens vom monatlichen Bruttolohn in den unterschiedlichen Szenarien illustrieren."
   ]
  },
  {
   "cell_type": "code",
   "execution_count": null,
   "metadata": {},
   "outputs": [],
   "source": [
    "## solution\n",
    "px.line(\n",
    "    ergebnisse.reset_index().query(\"Haushaltstyp == '2 Erwachsene, 1 Kind'\"),\n",
    "    x=\"bruttolohn_m_hh\",\n",
    "    y=[\n",
    "        \"verfügbares_einkommen_kiz_und_wg\",\n",
    "        \"verfügbares_einkommen_bürgergeld\",\n",
    "        \"verfügbares_einkommen_vorrang\",\n",
    "    ],\n",
    "    title=\"2 Erwachsene, 1 Kind\",\n",
    ")"
   ]
  },
  {
   "cell_type": "code",
   "execution_count": null,
   "metadata": {},
   "outputs": [],
   "source": [
    "## solution\n",
    "px.line(\n",
    "    ergebnisse.reset_index().query(\"Haushaltstyp == '2 Erwachsene, 2 Kinder'\"),\n",
    "    x=\"bruttolohn_m_hh\",\n",
    "    y=[\n",
    "        \"verfügbares_einkommen_kiz_und_wg\",\n",
    "        \"verfügbares_einkommen_bürgergeld\",\n",
    "        \"verfügbares_einkommen_vorrang\",\n",
    "    ],\n",
    "    title=\"2 Erwachsene, 2 Kinder\",\n",
    ")"
   ]
  },
  {
   "attachments": {},
   "cell_type": "markdown",
   "metadata": {},
   "source": [
    "## Aufgabe 3: Pentabilities (10 Minuten)\n",
    "\n",
    "Bitte bewerten Sie die Beiträge zur Gruppenarbeit in der Pentabilities-App. Bitte\n",
    "vergeben Sie über alle 5 Dimensionen hinweg Punkte für die Verhaltensweisen, welche Sie\n",
    "heute beobachten konnten. Denken Sie bitte daran, sowohl die Beiträge der\n",
    "Kommiliton:innen Ihrer Gruppe als auch Ihre eigenen zu bewerten."
   ]
  },
  {
   "attachments": {},
   "cell_type": "markdown",
   "metadata": {},
   "source": [
    "## Aufgabe 4: Friktionen der Inanspruchnahme (25 Minuten)\n",
    "\n",
    "In dieser Aufgabe ignorieren wir, dass das Jobcenter eine Vorrangprüfung zwischen\n",
    "Kinderzuschlag/Wohngeld einerseits und Bürgergeld andererseits vornimmt. Stattdessen\n",
    "nehmen wir an, dass sich Haushalte für den ein oder anderen Transfer entscheiden können.\n",
    "\n",
    "Diskutieren Sie anhand der Grafiken für was sich welche Familie ab welchem Einkommen\n",
    "entscheiden würde und warum?\n",
    "\n",
    "Beziehen Sie insbesondere die möglichen Friktionen der Inanspruchnahme der verschiedenen\n",
    "Sozialleistungen mit ein."
   ]
  },
  {
   "attachments": {},
   "cell_type": "markdown",
   "metadata": {},
   "source": [
    "!! solution\n",
    "\n",
    "**Potentielle Antworten**\n",
    "\n",
    "mögliche Friktionen:\n",
    "\n",
    "- Transaktionskosten\n",
    "\n",
    "- fehlende Information und hohe Komplexität\n",
    "\n",
    "- Stigma\n",
    "\n",
    "Transaktionskosten: \n",
    "- Sehr hoch bei Kinderzuschlag/Wohngeld weil muss bei 2 verschiedenen Behörden beantragt werden. \n",
    "- Insbesondere bei fluktuierendem Einkommen ein Riesenproblem.\n",
    "- Außerdem muss Kinderzuschlag alle 6 Monate beantragt werden.\n",
    "- Jedoch bei Bürgergeld -> regulärer Jobcenter Besuch verpflichtend.\n",
    "\n",
    "-> Bevorzuge Bürgergeld\n",
    "\n",
    "Fehlende Information:\n",
    "- Wenige Leute wissen Bescheid über Kinderzuschlag.\n",
    "- Berechnung von Wohngeld sehr komplex.\n",
    "- Bürgergeld ist bekannter und zum Teil transparenter. \n",
    "\n",
    "-> Bevorzuge Bürgergeld.\n",
    "\n",
    "Stigma\n",
    "- Möglicherweise höher bei Bürgegeld Bezug.\n",
    "- Eventuell seit Einführung des Bürgergelds weniger hoch als noch bei Hartz 4.\n",
    "\n",
    "-> Bevorzuge Kinderzuschlag, Wohngeld selbst bei gleich hoher oder marginal geringerem Transfer.\n",
    "\n",
    "Was genau gewählt wird hängt außerdem davon ab was davon zu gewinnen ist, also vom Einkommen, Miete, Haushaltstyp.\n",
    "\n",
    "\n",
    "**Ausblick auf übernächste Woche:** Äquivalenzskalen, Vergleichbarkeit über unterschiedliche Haushalte hinweg.\n"
   ]
  }
 ],
 "metadata": {
  "language_info": {
   "codemirror_mode": {
    "name": "ipython",
    "version": 3
   },
   "file_extension": ".py",
   "mimetype": "text/x-python",
   "name": "python",
   "nbconvert_exporter": "python",
   "pygments_lexer": "ipython3"
  }
 },
 "nbformat": 4,
 "nbformat_minor": 4
}
